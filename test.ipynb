{
 "cells": [
  {
   "cell_type": "code",
   "execution_count": 1,
   "metadata": {},
   "outputs": [
    {
     "name": "stderr",
     "output_type": "stream",
     "text": [
      "Using TensorFlow backend.\n"
     ]
    }
   ],
   "source": [
    "import scipy.io as sio\n",
    "import numpy as np\n",
    "\n",
    "from __future__ import print_function\n",
    "\n",
    "import keras.callbacks as cb\n",
    "import keras\n",
    "from keras.layers import Input, Activation, Dense, Dropout, Flatten, merge\n",
    "from keras.layers import Convolution3D, MaxPooling3D\n",
    "from keras.models import Sequential, Model\n",
    "from keras.optimizers import SGD,Adadelta\n",
    "from keras.regularizers import l1, l2\n",
    "from keras.utils import np_utils\n",
    "from keras import layers\n",
    "from keras import backend as K  \n",
    "from IPython.core.debugger import Tracer\n",
    "from random import shuffle\n",
    "\n",
    "%matplotlib inline\n",
    "from matplotlib import pyplot as plt\n",
    "import time\n",
    "\n",
    "import pickle\n"
   ]
  },
  {
   "cell_type": "code",
   "execution_count": 2,
   "metadata": {
    "collapsed": true
   },
   "outputs": [],
   "source": [
    "pkl_file = open('C:\\\\Users\\\\PangTouXian\\\\Documents\\\\Python_scripts\\\\cnnChair\\\\data\\\\cubeTest16_1dir', 'rb')\n",
    "cubeTest16 = pickle.load(pkl_file)\n",
    "pkl_file.close()\n",
    "pkl_file = open('C:\\\\Users\\\\PangTouXian\\\\Documents\\\\Python_scripts\\\\cnnChair\\\\data\\\\cubeTrain16_1dir', 'rb')\n",
    "cubeTrain16 = pickle.load(pkl_file)\n",
    "pkl_file.close()\n",
    "cubeDim = 16"
   ]
  },
  {
   "cell_type": "code",
   "execution_count": 3,
   "metadata": {},
   "outputs": [
    {
     "name": "stdout",
     "output_type": "stream",
     "text": [
      "(3991, 16, 16, 16)\n",
      "(3991,)\n",
      "0.0\n",
      "[1. 0. 0. 0. 0. 0. 0. 0. 0. 0.]\n",
      "(3991, 10)\n",
      "(908, 10)\n",
      "(3991, 16, 16, 16, 1)\n"
     ]
    }
   ],
   "source": [
    "def PreprocessDataset():\n",
    "    # Load dataset\n",
    "    trainData = cubeTrain16\n",
    "    testData = cubeTest16\n",
    "    trainLabel =np.concatenate((np.zeros(106),np.ones(515),2*np.ones(889),3*np.ones(200),4*np.ones(200),\n",
    "                                5*np.ones(465),6*np.ones(200),7*np.ones(680),8*np.ones(392),9*np.ones(344)))\n",
    "    testLabel =np.concatenate((np.zeros(50),np.ones(100),2*np.ones(100),3*np.ones(86),4*np.ones(86),\n",
    "                               5*np.ones(100),6*np.ones(86),7*np.ones(100),8*np.ones(100),9*np.ones(100))) \n",
    "    print (trainData.shape)\n",
    "    print(trainLabel.shape) \n",
    "    \n",
    "    # Transform lables to one-hot\n",
    "    print(trainLabel[0])\n",
    "    trainLabel = np_utils.to_categorical(trainLabel, 10)\n",
    "    testLabel = np_utils.to_categorical(testLabel, 10)\n",
    "    print(trainLabel[0])\n",
    "    print(trainLabel.shape)\n",
    "    print(testLabel.shape)\n",
    "    \n",
    "    # Reshape\n",
    "    trainData = trainData.reshape(trainData.shape[0], cubeDim,cubeDim,cubeDim, 1)\n",
    "    testData = testData.reshape(testData.shape[0], cubeDim,cubeDim,cubeDim, 1)\n",
    "    print(trainData.shape)\n",
    "    return [trainData,testData,trainLabel,testLabel]\n",
    "\n",
    "trainData,testData,trainLabel,testLabel = PreprocessDataset()"
   ]
  },
  {
   "cell_type": "code",
   "execution_count": 8,
   "metadata": {},
   "outputs": [
    {
     "name": "stderr",
     "output_type": "stream",
     "text": [
      "C:\\Users\\PangTouXian\\Anaconda3\\envs\\newTensorflowGpu\\lib\\site-packages\\ipykernel_launcher.py:5: UserWarning: Update your `Conv3D` call to the Keras 2 API: `Conv3D(64, (3, 3, 3), activation=\"relu\", padding=\"same\", strides=(1, 1, 1))`\n",
      "  \"\"\"\n",
      "C:\\Users\\PangTouXian\\Anaconda3\\envs\\newTensorflowGpu\\lib\\site-packages\\ipykernel_launcher.py:7: UserWarning: Update your `Conv3D` call to the Keras 2 API: `Conv3D(64, (2, 2, 2), activation=\"relu\", padding=\"same\", strides=(1, 1, 1))`\n",
      "  import sys\n",
      "C:\\Users\\PangTouXian\\Anaconda3\\envs\\newTensorflowGpu\\lib\\site-packages\\ipykernel_launcher.py:8: UserWarning: The `merge` function is deprecated and will be removed after 08/2017. Use instead layers from `keras.layers.merge`, e.g. `add`, `concatenate`, etc.\n",
      "  \n",
      "C:\\Users\\PangTouXian\\Anaconda3\\envs\\newTensorflowGpu\\lib\\site-packages\\keras\\legacy\\layers.py:464: UserWarning: The `Merge` layer is deprecated and will be removed after 08/2017. Use instead layers from `keras.layers.merge`, e.g. `add`, `concatenate`, etc.\n",
      "  name=name)\n",
      "C:\\Users\\PangTouXian\\Anaconda3\\envs\\newTensorflowGpu\\lib\\site-packages\\ipykernel_launcher.py:14: UserWarning: Update your `Conv3D` call to the Keras 2 API: `Conv3D(64, (1, 1, 1), activation=\"relu\", padding=\"same\", strides=(1, 1, 1))`\n",
      "  \n",
      "C:\\Users\\PangTouXian\\Anaconda3\\envs\\newTensorflowGpu\\lib\\site-packages\\ipykernel_launcher.py:16: UserWarning: Update your `Conv3D` call to the Keras 2 API: `Conv3D(128, (3, 3, 3), activation=\"relu\", padding=\"same\", strides=(1, 1, 1))`\n",
      "  app.launch_new_instance()\n",
      "C:\\Users\\PangTouXian\\Anaconda3\\envs\\newTensorflowGpu\\lib\\site-packages\\ipykernel_launcher.py:18: UserWarning: Update your `Conv3D` call to the Keras 2 API: `Conv3D(64, (1, 1, 1), activation=\"relu\", padding=\"same\", strides=(1, 1, 1))`\n",
      "C:\\Users\\PangTouXian\\Anaconda3\\envs\\newTensorflowGpu\\lib\\site-packages\\ipykernel_launcher.py:20: UserWarning: Update your `Conv3D` call to the Keras 2 API: `Conv3D(128, (2, 2, 2), activation=\"relu\", padding=\"same\", strides=(1, 1, 1))`\n",
      "C:\\Users\\PangTouXian\\Anaconda3\\envs\\newTensorflowGpu\\lib\\site-packages\\ipykernel_launcher.py:22: UserWarning: Update your `Conv3D` call to the Keras 2 API: `Conv3D(64, (1, 1, 1), activation=\"relu\", padding=\"same\", strides=(1, 1, 1))`\n",
      "C:\\Users\\PangTouXian\\Anaconda3\\envs\\newTensorflowGpu\\lib\\site-packages\\ipykernel_launcher.py:23: UserWarning: The `merge` function is deprecated and will be removed after 08/2017. Use instead layers from `keras.layers.merge`, e.g. `add`, `concatenate`, etc.\n",
      "C:\\Users\\PangTouXian\\Anaconda3\\envs\\newTensorflowGpu\\lib\\site-packages\\ipykernel_launcher.py:29: UserWarning: Update your `Conv3D` call to the Keras 2 API: `Conv3D(128, (1, 1, 1), activation=\"relu\", padding=\"same\", strides=(1, 1, 1))`\n"
     ]
    },
    {
     "name": "stdout",
     "output_type": "stream",
     "text": [
      "(?, 16, 16, 16, 128)\n",
      "(?, 8, 8, 8, 320)\n"
     ]
    },
    {
     "name": "stderr",
     "output_type": "stream",
     "text": [
      "C:\\Users\\PangTouXian\\Anaconda3\\envs\\newTensorflowGpu\\lib\\site-packages\\ipykernel_launcher.py:31: UserWarning: Update your `Conv3D` call to the Keras 2 API: `Conv3D(256, (3, 3, 3), activation=\"relu\", padding=\"same\", strides=(1, 1, 1))`\n",
      "C:\\Users\\PangTouXian\\Anaconda3\\envs\\newTensorflowGpu\\lib\\site-packages\\ipykernel_launcher.py:33: UserWarning: Update your `Conv3D` call to the Keras 2 API: `Conv3D(128, (1, 1, 1), activation=\"relu\", padding=\"same\", strides=(1, 1, 1))`\n",
      "C:\\Users\\PangTouXian\\Anaconda3\\envs\\newTensorflowGpu\\lib\\site-packages\\ipykernel_launcher.py:35: UserWarning: Update your `Conv3D` call to the Keras 2 API: `Conv3D(256, (2, 2, 2), activation=\"relu\", padding=\"same\", strides=(1, 1, 1))`\n",
      "C:\\Users\\PangTouXian\\Anaconda3\\envs\\newTensorflowGpu\\lib\\site-packages\\ipykernel_launcher.py:37: UserWarning: Update your `Conv3D` call to the Keras 2 API: `Conv3D(128, (1, 1, 1), activation=\"relu\", padding=\"same\", strides=(1, 1, 1))`\n"
     ]
    },
    {
     "name": "stdout",
     "output_type": "stream",
     "text": [
      "(?, 4, 4, 4, 640)\n",
      "(None, 10)\n"
     ]
    },
    {
     "name": "stderr",
     "output_type": "stream",
     "text": [
      "C:\\Users\\PangTouXian\\Anaconda3\\envs\\newTensorflowGpu\\lib\\site-packages\\ipykernel_launcher.py:38: UserWarning: The `merge` function is deprecated and will be removed after 08/2017. Use instead layers from `keras.layers.merge`, e.g. `add`, `concatenate`, etc.\n"
     ]
    }
   ],
   "source": [
    "def DefineModel_1():\n",
    "    input = Input(shape=(cubeDim,cubeDim,cubeDim,1))\n",
    "    \n",
    "    conv1a = Convolution3D(64,3,3,3,strides=(1, 1, 1), activation='relu', \n",
    "                          padding='same')(input)\n",
    "    conv1b = Convolution3D(64,2,2,2,strides=(1, 1, 1), activation='relu', \n",
    "                          padding='same')(input)\n",
    "    merged1 = merge([conv1a,conv1b],mode='concat',concat_axis=-1)\n",
    "    print(np.shape(merged1))\n",
    "    pooling1 = MaxPooling3D(pool_size=(2, 2, 2))(merged1)\n",
    "    dropout = Dropout(0.5)(pooling1)\n",
    "    \n",
    "    conv2a = Convolution3D(64,1,1,1,strides=(1, 1, 1), activation='relu', \n",
    "                          padding='same')(pooling1)\n",
    "    conv2b = Convolution3D(128,3,3,3,strides=(1, 1, 1), activation='relu', \n",
    "                          padding='same')(conv2a)\n",
    "    conv2c = Convolution3D(64,1,1,1,strides=(1, 1, 1), activation='relu', \n",
    "                          padding='same')(pooling1)\n",
    "    conv2d = Convolution3D(128,2,2,2,strides=(1, 1, 1), activation='relu', \n",
    "                          padding='same')(conv2c)\n",
    "    conv2e = Convolution3D(64,1,1,1,strides=(1, 1, 1), activation='relu', \n",
    "                          padding='same')(pooling1) \n",
    "    merged2 = merge([conv2b,conv2d,conv2e],mode='concat',concat_axis=-1)\n",
    "    print(np.shape(merged2))\n",
    "    pooling2 = MaxPooling3D(pool_size=(2, 2, 2))(merged2)\n",
    "    dropout = Dropout(0.5)(pooling2)\n",
    "    \n",
    "    conv3a = Convolution3D(128,1,1,1,strides=(1, 1, 1), activation='relu', \n",
    "                          padding='same')(pooling2)\n",
    "    conv3b = Convolution3D(256,3,3,3,strides=(1, 1, 1), activation='relu', \n",
    "                          padding='same')(conv3a)\n",
    "    conv3c = Convolution3D(128,1,1,1,strides=(1, 1, 1), activation='relu', \n",
    "                          padding='same')(pooling2)\n",
    "    conv3d = Convolution3D(256,2,2,2,strides=(1, 1, 1), activation='relu', \n",
    "                          padding='same')(conv3c)\n",
    "    conv3e = Convolution3D(128,1,1,1,strides=(1, 1, 1), activation='relu', \n",
    "                          padding='same')(pooling2)\n",
    "    merged3 = merge([conv3b,conv3d,conv3e],mode='concat',concat_axis=-1)\n",
    "    print(np.shape(merged3))\n",
    "    flatten2 = Flatten()(merged3)    \n",
    "    \n",
    "    dense1 = Dense(256,activation='relu')(flatten2)\n",
    "    dropout = Dropout(0.5)(dense1)\n",
    "    dense2 = Dense(10, activation='softmax')(dropout)\n",
    "    model = Model(inputs=input, outputs=dense2)\n",
    "    \n",
    "    optmzr = keras.optimizers.Adam(lr=0.001, beta_1=0.9, beta_2=0.999, epsilon=1e-08, decay=0.0)\n",
    "    model.compile(loss='categorical_crossentropy', optimizer=optmzr, metrics=[\"accuracy\"])\n",
    "\n",
    " \n",
    "    return model\n",
    "\n",
    "model = DefineModel_1()\n",
    "print(model.output_shape)\n"
   ]
  },
  {
   "cell_type": "code",
   "execution_count": 13,
   "metadata": {
    "collapsed": true
   },
   "outputs": [],
   "source": [
    "def TrainModel_1(data=None, epochs=15, batch=128):\n",
    "    start_time = time.time()\n",
    "    model = DefineModel_1()\n",
    "    if data is None:\n",
    "        print(\"Must provide data.\")\n",
    "        return\n",
    "    trainData,testData,trainLabel,testLabel = data\n",
    "    print('Start training.')\n",
    "\n",
    "    history = model.fit(trainData, trainLabel, nb_epoch=epochs, batch_size=batch,\n",
    "              validation_data=(testData, testLabel),verbose=1,shuffle=True)\n",
    "    print(\"Training took {0} seconds.\".format(time.time() - start_time))\n",
    "    return model, history"
   ]
  },
  {
   "cell_type": "code",
   "execution_count": 14,
   "metadata": {},
   "outputs": [
    {
     "name": "stderr",
     "output_type": "stream",
     "text": [
      "C:\\Users\\PangTouXian\\Anaconda3\\envs\\newTensorflowGpu\\lib\\site-packages\\ipykernel_launcher.py:5: UserWarning: Update your `Conv3D` call to the Keras 2 API: `Conv3D(64, (3, 3, 3), activation=\"relu\", padding=\"same\", strides=(1, 1, 1))`\n",
      "  \"\"\"\n",
      "C:\\Users\\PangTouXian\\Anaconda3\\envs\\newTensorflowGpu\\lib\\site-packages\\ipykernel_launcher.py:7: UserWarning: Update your `Conv3D` call to the Keras 2 API: `Conv3D(64, (2, 2, 2), activation=\"relu\", padding=\"same\", strides=(1, 1, 1))`\n",
      "  import sys\n",
      "C:\\Users\\PangTouXian\\Anaconda3\\envs\\newTensorflowGpu\\lib\\site-packages\\ipykernel_launcher.py:8: UserWarning: The `merge` function is deprecated and will be removed after 08/2017. Use instead layers from `keras.layers.merge`, e.g. `add`, `concatenate`, etc.\n",
      "  \n",
      "C:\\Users\\PangTouXian\\Anaconda3\\envs\\newTensorflowGpu\\lib\\site-packages\\keras\\legacy\\layers.py:464: UserWarning: The `Merge` layer is deprecated and will be removed after 08/2017. Use instead layers from `keras.layers.merge`, e.g. `add`, `concatenate`, etc.\n",
      "  name=name)\n",
      "C:\\Users\\PangTouXian\\Anaconda3\\envs\\newTensorflowGpu\\lib\\site-packages\\ipykernel_launcher.py:14: UserWarning: Update your `Conv3D` call to the Keras 2 API: `Conv3D(64, (1, 1, 1), activation=\"relu\", padding=\"same\", strides=(1, 1, 1))`\n",
      "  \n",
      "C:\\Users\\PangTouXian\\Anaconda3\\envs\\newTensorflowGpu\\lib\\site-packages\\ipykernel_launcher.py:16: UserWarning: Update your `Conv3D` call to the Keras 2 API: `Conv3D(128, (3, 3, 3), activation=\"relu\", padding=\"same\", strides=(1, 1, 1))`\n",
      "  app.launch_new_instance()\n",
      "C:\\Users\\PangTouXian\\Anaconda3\\envs\\newTensorflowGpu\\lib\\site-packages\\ipykernel_launcher.py:18: UserWarning: Update your `Conv3D` call to the Keras 2 API: `Conv3D(64, (1, 1, 1), activation=\"relu\", padding=\"same\", strides=(1, 1, 1))`\n",
      "C:\\Users\\PangTouXian\\Anaconda3\\envs\\newTensorflowGpu\\lib\\site-packages\\ipykernel_launcher.py:20: UserWarning: Update your `Conv3D` call to the Keras 2 API: `Conv3D(128, (2, 2, 2), activation=\"relu\", padding=\"same\", strides=(1, 1, 1))`\n",
      "C:\\Users\\PangTouXian\\Anaconda3\\envs\\newTensorflowGpu\\lib\\site-packages\\ipykernel_launcher.py:22: UserWarning: Update your `Conv3D` call to the Keras 2 API: `Conv3D(64, (1, 1, 1), activation=\"relu\", padding=\"same\", strides=(1, 1, 1))`\n",
      "C:\\Users\\PangTouXian\\Anaconda3\\envs\\newTensorflowGpu\\lib\\site-packages\\ipykernel_launcher.py:23: UserWarning: The `merge` function is deprecated and will be removed after 08/2017. Use instead layers from `keras.layers.merge`, e.g. `add`, `concatenate`, etc.\n",
      "C:\\Users\\PangTouXian\\Anaconda3\\envs\\newTensorflowGpu\\lib\\site-packages\\ipykernel_launcher.py:29: UserWarning: Update your `Conv3D` call to the Keras 2 API: `Conv3D(128, (1, 1, 1), activation=\"relu\", padding=\"same\", strides=(1, 1, 1))`\n"
     ]
    },
    {
     "name": "stdout",
     "output_type": "stream",
     "text": [
      "(?, 16, 16, 16, 128)\n",
      "(?, 8, 8, 8, 320)\n"
     ]
    },
    {
     "name": "stderr",
     "output_type": "stream",
     "text": [
      "C:\\Users\\PangTouXian\\Anaconda3\\envs\\newTensorflowGpu\\lib\\site-packages\\ipykernel_launcher.py:31: UserWarning: Update your `Conv3D` call to the Keras 2 API: `Conv3D(256, (3, 3, 3), activation=\"relu\", padding=\"same\", strides=(1, 1, 1))`\n",
      "C:\\Users\\PangTouXian\\Anaconda3\\envs\\newTensorflowGpu\\lib\\site-packages\\ipykernel_launcher.py:33: UserWarning: Update your `Conv3D` call to the Keras 2 API: `Conv3D(128, (1, 1, 1), activation=\"relu\", padding=\"same\", strides=(1, 1, 1))`\n",
      "C:\\Users\\PangTouXian\\Anaconda3\\envs\\newTensorflowGpu\\lib\\site-packages\\ipykernel_launcher.py:35: UserWarning: Update your `Conv3D` call to the Keras 2 API: `Conv3D(256, (2, 2, 2), activation=\"relu\", padding=\"same\", strides=(1, 1, 1))`\n",
      "C:\\Users\\PangTouXian\\Anaconda3\\envs\\newTensorflowGpu\\lib\\site-packages\\ipykernel_launcher.py:37: UserWarning: Update your `Conv3D` call to the Keras 2 API: `Conv3D(128, (1, 1, 1), activation=\"relu\", padding=\"same\", strides=(1, 1, 1))`\n",
      "C:\\Users\\PangTouXian\\Anaconda3\\envs\\newTensorflowGpu\\lib\\site-packages\\ipykernel_launcher.py:38: UserWarning: The `merge` function is deprecated and will be removed after 08/2017. Use instead layers from `keras.layers.merge`, e.g. `add`, `concatenate`, etc.\n",
      "C:\\Users\\PangTouXian\\Anaconda3\\envs\\newTensorflowGpu\\lib\\site-packages\\ipykernel_launcher.py:11: UserWarning: The `nb_epoch` argument in `fit` has been renamed `epochs`.\n",
      "  # This is added back by InteractiveShellApp.init_path()\n"
     ]
    },
    {
     "name": "stdout",
     "output_type": "stream",
     "text": [
      "(?, 4, 4, 4, 640)\n",
      "Start training.\n",
      "Train on 3991 samples, validate on 908 samples\n",
      "Epoch 1/15\n",
      "3991/3991 [==============================] - 12s 3ms/step - loss: 0.8816 - acc: 0.7141 - val_loss: 0.5708 - val_acc: 0.7621\n",
      "Epoch 2/15\n",
      "3991/3991 [==============================] - 11s 3ms/step - loss: 0.3089 - acc: 0.8970 - val_loss: 0.3764 - val_acc: 0.8557\n",
      "Epoch 3/15\n",
      "3991/3991 [==============================] - 11s 3ms/step - loss: 0.2029 - acc: 0.9313 - val_loss: 0.3512 - val_acc: 0.8700\n",
      "Epoch 4/15\n",
      "3991/3991 [==============================] - 11s 3ms/step - loss: 0.1685 - acc: 0.9421 - val_loss: 0.3823 - val_acc: 0.8744\n",
      "Epoch 5/15\n",
      "3991/3991 [==============================] - 11s 3ms/step - loss: 0.1231 - acc: 0.9551 - val_loss: 0.3419 - val_acc: 0.8744\n",
      "Epoch 6/15\n",
      "3991/3991 [==============================] - 11s 3ms/step - loss: 0.0973 - acc: 0.9649 - val_loss: 0.3313 - val_acc: 0.8954\n",
      "Epoch 7/15\n",
      "3991/3991 [==============================] - 11s 3ms/step - loss: 0.0798 - acc: 0.9709 - val_loss: 0.4439 - val_acc: 0.8689\n",
      "Epoch 8/15\n",
      "3991/3991 [==============================] - 11s 3ms/step - loss: 0.0693 - acc: 0.9722 - val_loss: 0.3799 - val_acc: 0.8888\n",
      "Epoch 9/15\n",
      "3991/3991 [==============================] - 11s 3ms/step - loss: 0.0565 - acc: 0.9790 - val_loss: 0.3784 - val_acc: 0.8910\n",
      "Epoch 10/15\n",
      "3991/3991 [==============================] - 11s 3ms/step - loss: 0.0431 - acc: 0.9850 - val_loss: 0.4573 - val_acc: 0.8722\n",
      "Epoch 11/15\n",
      "3991/3991 [==============================] - 11s 3ms/step - loss: 0.0609 - acc: 0.9790 - val_loss: 0.3608 - val_acc: 0.8965\n",
      "Epoch 12/15\n",
      "3991/3991 [==============================] - 11s 3ms/step - loss: 0.0459 - acc: 0.9837 - val_loss: 0.4169 - val_acc: 0.8899\n",
      "Epoch 13/15\n",
      "3991/3991 [==============================] - 11s 3ms/step - loss: 0.0492 - acc: 0.9835 - val_loss: 0.4154 - val_acc: 0.8976\n",
      "Epoch 14/15\n",
      "3991/3991 [==============================] - 11s 3ms/step - loss: 0.0404 - acc: 0.9855 - val_loss: 0.4243 - val_acc: 0.8888\n",
      "Epoch 15/15\n",
      "3991/3991 [==============================] - 11s 3ms/step - loss: 0.0300 - acc: 0.9885 - val_loss: 0.4351 - val_acc: 0.8998\n",
      "Training took 164.7795808315277 seconds.\n"
     ]
    }
   ],
   "source": [
    "trained_model_1, training_history_1 = TrainModel_1(data=[trainData,testData,trainLabel,testLabel])"
   ]
  },
  {
   "cell_type": "code",
   "execution_count": null,
   "metadata": {
    "collapsed": true
   },
   "outputs": [],
   "source": []
  },
  {
   "cell_type": "code",
   "execution_count": 20,
   "metadata": {},
   "outputs": [
    {
     "name": "stderr",
     "output_type": "stream",
     "text": [
      "C:\\Users\\PangTouXian\\Anaconda3\\envs\\newTensorflowGpu\\lib\\site-packages\\ipykernel_launcher.py:11: UserWarning: Update your `Conv3D` call to the Keras 2 API: `Conv3D(64, (3, 3, 3), strides=(1, 1, 1), activation=\"relu\", padding=\"valid\", input_shape=(16, 16, 1...)`\n",
      "  # This is added back by InteractiveShellApp.init_path()\n",
      "C:\\Users\\PangTouXian\\Anaconda3\\envs\\newTensorflowGpu\\lib\\site-packages\\ipykernel_launcher.py:12: UserWarning: Update your `Conv3D` call to the Keras 2 API: `Conv3D(64, (3, 3, 3), activation=\"relu\")`\n",
      "  if sys.path[0] == '':\n",
      "C:\\Users\\PangTouXian\\Anaconda3\\envs\\newTensorflowGpu\\lib\\site-packages\\ipykernel_launcher.py:17: UserWarning: Update your `Conv3D` call to the Keras 2 API: `Conv3D(128, (3, 3, 3), strides=(1, 1, 1), activation=\"relu\", padding=\"valid\")`\n",
      "C:\\Users\\PangTouXian\\Anaconda3\\envs\\newTensorflowGpu\\lib\\site-packages\\ipykernel_launcher.py:28: UserWarning: Update your `Conv3D` call to the Keras 2 API: `Conv3D(64, (2, 2, 2), strides=(1, 1, 1), activation=\"relu\", padding=\"valid\", input_shape=(16, 16, 1...)`\n",
      "C:\\Users\\PangTouXian\\Anaconda3\\envs\\newTensorflowGpu\\lib\\site-packages\\ipykernel_launcher.py:30: UserWarning: Update your `Conv3D` call to the Keras 2 API: `Conv3D(64, (2, 2, 2), strides=(1, 1, 1), activation=\"relu\", padding=\"valid\")`\n",
      "C:\\Users\\PangTouXian\\Anaconda3\\envs\\newTensorflowGpu\\lib\\site-packages\\ipykernel_launcher.py:34: UserWarning: Update your `Conv3D` call to the Keras 2 API: `Conv3D(128, (2, 2, 2), strides=(1, 1, 1), activation=\"relu\", padding=\"valid\")`\n",
      "C:\\Users\\PangTouXian\\Anaconda3\\envs\\newTensorflowGpu\\lib\\site-packages\\ipykernel_launcher.py:36: UserWarning: Update your `Conv3D` call to the Keras 2 API: `Conv3D(128, (2, 2, 2), strides=(1, 1, 1), activation=\"relu\", padding=\"valid\")`\n",
      "C:\\Users\\PangTouXian\\Anaconda3\\envs\\newTensorflowGpu\\lib\\site-packages\\ipykernel_launcher.py:38: UserWarning: Update your `Conv3D` call to the Keras 2 API: `Conv3D(128, (2, 2, 2), strides=(1, 1, 1), activation=\"relu\", padding=\"valid\")`\n",
      "C:\\Users\\PangTouXian\\Anaconda3\\envs\\newTensorflowGpu\\lib\\site-packages\\ipykernel_launcher.py:46: UserWarning: The `merge` function is deprecated and will be removed after 08/2017. Use instead layers from `keras.layers.merge`, e.g. `add`, `concatenate`, etc.\n"
     ]
    },
    {
     "name": "stdout",
     "output_type": "stream",
     "text": [
      "(?, 14, 14, 14, 64)\n",
      "(?, 2, 2, 2, 128)\n",
      "(None, 10)\n"
     ]
    },
    {
     "name": "stderr",
     "output_type": "stream",
     "text": [
      "C:\\Users\\PangTouXian\\Anaconda3\\envs\\newTensorflowGpu\\lib\\site-packages\\keras\\legacy\\layers.py:464: UserWarning: The `Merge` layer is deprecated and will be removed after 08/2017. Use instead layers from `keras.layers.merge`, e.g. `add`, `concatenate`, etc.\n",
      "  name=name)\n"
     ]
    }
   ],
   "source": [
    "#new test\n",
    "\n",
    "num_filters1 = 64\n",
    "num_filters2 = 128\n",
    "filter_size1 = 3\n",
    "filter_size2 = 2\n",
    "\n",
    "def DefineModel_2():\n",
    "    input = Input(shape=(cubeDim,cubeDim,cubeDim,1))\n",
    "    conv1a = Convolution3D(num_filters1, filter_size1,filter_size1,filter_size1, strides=(1, 1, 1), activation='relu', \n",
    "                          padding='valid',input_shape=(cubeDim,cubeDim,cubeDim, 1))(input)\n",
    "    conv1b = Convolution3D(num_filters1, filter_size1,filter_size1,filter_size1, activation='relu')(conv1a)\n",
    "    pooling1a = MaxPooling3D(pool_size=(2, 2, 2))(conv1b)\n",
    "    print(np.shape(conv1a))    \n",
    "    \n",
    "    conv1c = Convolution3D(num_filters2, filter_size1,filter_size1,filter_size1, strides=(1, 1, 1), activation='relu', \n",
    "                          padding='valid')(pooling1a)\n",
    "    pooling1b = MaxPooling3D(pool_size=(2, 2, 2))(conv1c)\n",
    "    '''conv1d = Convolution3D(num_filters2, filter_size1,filter_size1,filter_size1, strides=(1, 1, 1), activation='relu', \n",
    "                          padding='valid')(conv1c)'''\n",
    "    '''pooling1b = MaxPooling3D(pool_size=(2, 2, 2))(conv1d)'''\n",
    "\n",
    "    \n",
    "    ''''''\n",
    "    flatten1 = Flatten()(pooling1b)\n",
    "    \n",
    "    conv2a = Convolution3D(num_filters1, filter_size2, filter_size2, filter_size2,strides=(1, 1, 1), activation='relu', \n",
    "                          padding='valid',input_shape=(cubeDim,cubeDim,cubeDim, 1))(input)\n",
    "    conv2b = Convolution3D(num_filters1, filter_size2, filter_size2, filter_size2,strides=(1, 1, 1), activation='relu', \n",
    "                          padding='valid')(conv2a)\n",
    "    pooling2a = MaxPooling3D(pool_size=(2, 2, 2))(conv2b)\n",
    "    \n",
    "    conv2c = Convolution3D(num_filters2, filter_size2, filter_size2, filter_size2,strides=(1, 1, 1), activation='relu', \n",
    "                          padding='valid')(pooling2a)\n",
    "    conv2d = Convolution3D(num_filters2, filter_size2, filter_size2, filter_size2,strides=(1, 1, 1), activation='relu', \n",
    "                          padding='valid')(conv2c)\n",
    "    conv2e = Convolution3D(num_filters2, filter_size2, filter_size2, filter_size2,strides=(1, 1, 1), activation='relu', \n",
    "                          padding='valid')(conv2d)\n",
    "    pooling2b = MaxPooling3D(pool_size=(2, 2, 2))(conv2e)\n",
    "    print(np.shape(pooling2b))\n",
    "    dropout2 = Dropout(0.5)(pooling2b)\n",
    "    \n",
    "    \n",
    "    ''''''\n",
    "    flatten2 = Flatten()(dropout2)\n",
    "    merged = merge([flatten1, flatten2],mode='concat',concat_axis=1,name='merged')\n",
    "    \n",
    "    '''merged = keras.layers.concatenate([dropout1, dropout2],axis=-1)'''\n",
    "\n",
    "    '''flatten = Flatten()(merged)'''\n",
    "    \n",
    "    dense1 = Dense(128,activation='relu')(merged)\n",
    "    dropout = Dropout(0.5)(dense1)\n",
    "    dense2 = Dense(10, activation='softmax')(dropout)\n",
    "    \n",
    "    model = Model(inputs=input, outputs=dense2)\n",
    "    \n",
    "    ''' optmzr = SGD(lr=0.1, clipnorm=5.)''' '''--88%'''\n",
    "    \n",
    "    optmzr = keras.optimizers.Adam(lr=0.001, beta_1=0.9, beta_2=0.999, epsilon=1e-08, decay=0.0)\n",
    "    model.compile(loss='categorical_crossentropy', optimizer=optmzr, metrics=[\"accuracy\"])\n",
    "    '''\n",
    "    \n",
    "    optmzr = keras.optimizers.Adagrad(lr=0.01, epsilon=1e-08, decay=0.0)   \n",
    "    model.compile(loss='categorical_crossentropy', optimizer=optmzr, metrics=[\"accuracy\"])'''\n",
    "    return model\n",
    "\n",
    "\n",
    "model = DefineModel_2()\n",
    "print(model.output_shape)\n"
   ]
  },
  {
   "cell_type": "code",
   "execution_count": 21,
   "metadata": {
    "collapsed": true
   },
   "outputs": [],
   "source": [
    "def TrainModel_2(data=None, epochs=20, batch=128):\n",
    "    start_time = time.time()\n",
    "    model = DefineModel_2()\n",
    "    if data is None:\n",
    "        print(\"Must provide data.\")\n",
    "        return\n",
    "    trainData,testData,trainLabel,testLabel = data\n",
    "    print('Start training.')\n",
    "\n",
    "    history = model.fit(trainData, trainLabel, nb_epoch=epochs, batch_size=batch,\n",
    "              validation_data=(testData, testLabel),verbose=1,shuffle=True)\n",
    "    print(\"Training took {0} seconds.\".format(time.time() - start_time))\n",
    "    return model, history"
   ]
  },
  {
   "cell_type": "code",
   "execution_count": 22,
   "metadata": {},
   "outputs": [
    {
     "name": "stderr",
     "output_type": "stream",
     "text": [
      "C:\\Users\\PangTouXian\\Anaconda3\\envs\\newTensorflowGpu\\lib\\site-packages\\ipykernel_launcher.py:11: UserWarning: Update your `Conv3D` call to the Keras 2 API: `Conv3D(64, (3, 3, 3), strides=(1, 1, 1), activation=\"relu\", padding=\"valid\", input_shape=(16, 16, 1...)`\n",
      "  # This is added back by InteractiveShellApp.init_path()\n",
      "C:\\Users\\PangTouXian\\Anaconda3\\envs\\newTensorflowGpu\\lib\\site-packages\\ipykernel_launcher.py:12: UserWarning: Update your `Conv3D` call to the Keras 2 API: `Conv3D(64, (3, 3, 3), activation=\"relu\")`\n",
      "  if sys.path[0] == '':\n",
      "C:\\Users\\PangTouXian\\Anaconda3\\envs\\newTensorflowGpu\\lib\\site-packages\\ipykernel_launcher.py:17: UserWarning: Update your `Conv3D` call to the Keras 2 API: `Conv3D(128, (3, 3, 3), strides=(1, 1, 1), activation=\"relu\", padding=\"valid\")`\n",
      "C:\\Users\\PangTouXian\\Anaconda3\\envs\\newTensorflowGpu\\lib\\site-packages\\ipykernel_launcher.py:28: UserWarning: Update your `Conv3D` call to the Keras 2 API: `Conv3D(64, (2, 2, 2), strides=(1, 1, 1), activation=\"relu\", padding=\"valid\", input_shape=(16, 16, 1...)`\n",
      "C:\\Users\\PangTouXian\\Anaconda3\\envs\\newTensorflowGpu\\lib\\site-packages\\ipykernel_launcher.py:30: UserWarning: Update your `Conv3D` call to the Keras 2 API: `Conv3D(64, (2, 2, 2), strides=(1, 1, 1), activation=\"relu\", padding=\"valid\")`\n",
      "C:\\Users\\PangTouXian\\Anaconda3\\envs\\newTensorflowGpu\\lib\\site-packages\\ipykernel_launcher.py:34: UserWarning: Update your `Conv3D` call to the Keras 2 API: `Conv3D(128, (2, 2, 2), strides=(1, 1, 1), activation=\"relu\", padding=\"valid\")`\n",
      "C:\\Users\\PangTouXian\\Anaconda3\\envs\\newTensorflowGpu\\lib\\site-packages\\ipykernel_launcher.py:36: UserWarning: Update your `Conv3D` call to the Keras 2 API: `Conv3D(128, (2, 2, 2), strides=(1, 1, 1), activation=\"relu\", padding=\"valid\")`\n",
      "C:\\Users\\PangTouXian\\Anaconda3\\envs\\newTensorflowGpu\\lib\\site-packages\\ipykernel_launcher.py:38: UserWarning: Update your `Conv3D` call to the Keras 2 API: `Conv3D(128, (2, 2, 2), strides=(1, 1, 1), activation=\"relu\", padding=\"valid\")`\n"
     ]
    },
    {
     "name": "stdout",
     "output_type": "stream",
     "text": [
      "(?, 14, 14, 14, 64)\n",
      "(?, 2, 2, 2, 128)\n"
     ]
    },
    {
     "name": "stderr",
     "output_type": "stream",
     "text": [
      "C:\\Users\\PangTouXian\\Anaconda3\\envs\\newTensorflowGpu\\lib\\site-packages\\ipykernel_launcher.py:46: UserWarning: The `merge` function is deprecated and will be removed after 08/2017. Use instead layers from `keras.layers.merge`, e.g. `add`, `concatenate`, etc.\n",
      "C:\\Users\\PangTouXian\\Anaconda3\\envs\\newTensorflowGpu\\lib\\site-packages\\keras\\legacy\\layers.py:464: UserWarning: The `Merge` layer is deprecated and will be removed after 08/2017. Use instead layers from `keras.layers.merge`, e.g. `add`, `concatenate`, etc.\n",
      "  name=name)\n",
      "C:\\Users\\PangTouXian\\Anaconda3\\envs\\newTensorflowGpu\\lib\\site-packages\\ipykernel_launcher.py:11: UserWarning: The `nb_epoch` argument in `fit` has been renamed `epochs`.\n",
      "  # This is added back by InteractiveShellApp.init_path()\n"
     ]
    },
    {
     "name": "stdout",
     "output_type": "stream",
     "text": [
      "Start training.\n",
      "Train on 3991 samples, validate on 908 samples\n",
      "Epoch 1/20\n",
      "3991/3991 [==============================] - 12s 3ms/step - loss: 1.2516 - acc: 0.5866 - val_loss: 0.6201 - val_acc: 0.7952\n",
      "Epoch 2/20\n",
      "3991/3991 [==============================] - 10s 3ms/step - loss: 0.5328 - acc: 0.8371 - val_loss: 0.4956 - val_acc: 0.8458\n",
      "Epoch 3/20\n",
      "3991/3991 [==============================] - 10s 3ms/step - loss: 0.3880 - acc: 0.8725 - val_loss: 0.4603 - val_acc: 0.8579\n",
      "Epoch 4/20\n",
      "3991/3991 [==============================] - 10s 3ms/step - loss: 0.3027 - acc: 0.9038 - val_loss: 0.4052 - val_acc: 0.8513\n",
      "Epoch 5/20\n",
      "3991/3991 [==============================] - 11s 3ms/step - loss: 0.2549 - acc: 0.9085 - val_loss: 0.3641 - val_acc: 0.8700\n",
      "Epoch 6/20\n",
      "3991/3991 [==============================] - 11s 3ms/step - loss: 0.2378 - acc: 0.9221 - val_loss: 0.3069 - val_acc: 0.8932\n",
      "Epoch 7/20\n",
      "3991/3991 [==============================] - 11s 3ms/step - loss: 0.1813 - acc: 0.9389 - val_loss: 0.3262 - val_acc: 0.8722\n",
      "Epoch 8/20\n",
      "3991/3991 [==============================] - 11s 3ms/step - loss: 0.1614 - acc: 0.9441 - val_loss: 0.3330 - val_acc: 0.8778\n",
      "Epoch 9/20\n",
      "3991/3991 [==============================] - 11s 3ms/step - loss: 0.1509 - acc: 0.9456 - val_loss: 0.3509 - val_acc: 0.8888\n",
      "Epoch 10/20\n",
      "3991/3991 [==============================] - 11s 3ms/step - loss: 0.1213 - acc: 0.9574 - val_loss: 0.3130 - val_acc: 0.9020\n",
      "Epoch 11/20\n",
      "3991/3991 [==============================] - 11s 3ms/step - loss: 0.1164 - acc: 0.9559 - val_loss: 0.3610 - val_acc: 0.8954\n",
      "Epoch 12/20\n",
      "3991/3991 [==============================] - 11s 3ms/step - loss: 0.1050 - acc: 0.9629 - val_loss: 0.3983 - val_acc: 0.8855\n",
      "Epoch 13/20\n",
      "3991/3991 [==============================] - 11s 3ms/step - loss: 0.0893 - acc: 0.9672 - val_loss: 0.3505 - val_acc: 0.8811\n",
      "Epoch 14/20\n",
      "3991/3991 [==============================] - 11s 3ms/step - loss: 0.0964 - acc: 0.9649 - val_loss: 0.3468 - val_acc: 0.9009\n",
      "Epoch 15/20\n",
      "3991/3991 [==============================] - 11s 3ms/step - loss: 0.0871 - acc: 0.9684 - val_loss: 0.3296 - val_acc: 0.8987\n",
      "Epoch 16/20\n",
      "3991/3991 [==============================] - 11s 3ms/step - loss: 0.0709 - acc: 0.9749 - val_loss: 0.3688 - val_acc: 0.8888\n",
      "Epoch 17/20\n",
      "3991/3991 [==============================] - 11s 3ms/step - loss: 0.0736 - acc: 0.9747 - val_loss: 0.3438 - val_acc: 0.9053\n",
      "Epoch 18/20\n",
      "3991/3991 [==============================] - 11s 3ms/step - loss: 0.0641 - acc: 0.9764 - val_loss: 0.3540 - val_acc: 0.9009\n",
      "Epoch 19/20\n",
      "3991/3991 [==============================] - 11s 3ms/step - loss: 0.0503 - acc: 0.9802 - val_loss: 0.4203 - val_acc: 0.9009\n",
      "Epoch 20/20\n",
      "3991/3991 [==============================] - 11s 3ms/step - loss: 0.0608 - acc: 0.9754 - val_loss: 0.3810 - val_acc: 0.9042\n",
      "Training took 224.13043761253357 seconds.\n"
     ]
    }
   ],
   "source": [
    "trained_model_2, training_history_2 = TrainModel_2(data=[trainData,testData,trainLabel,testLabel])"
   ]
  },
  {
   "cell_type": "code",
   "execution_count": null,
   "metadata": {
    "collapsed": true
   },
   "outputs": [],
   "source": []
  },
  {
   "cell_type": "code",
   "execution_count": 10,
   "metadata": {
    "collapsed": true
   },
   "outputs": [],
   "source": [
    "def TestModel(model=None, data=None):\n",
    "    if model is None:\n",
    "        print(\"Must provide a trained model.\")\n",
    "        return\n",
    "    if data is None:\n",
    "        print(\"Must provide data.\")\n",
    "        return\n",
    "    \n",
    "    result =model.predict_on_batch(np.reshape(data,[1,16,16,16,1]))\n",
    "    return result"
   ]
  },
  {
   "cell_type": "code",
   "execution_count": 14,
   "metadata": {},
   "outputs": [
    {
     "name": "stdout",
     "output_type": "stream",
     "text": [
      "0.8975770925110133\n"
     ]
    }
   ],
   "source": [
    "index = [50,150,250,336,422,522,608,708,808,908]\n",
    "n = 0\n",
    "i = index[n]\n",
    "cl = 1\n",
    "res = 0\n",
    "for num in range (0,908):\n",
    "    result1 = TestModel(trained_model_1, testData[num,:])\n",
    "    result2 = TestModel(trained_model_2, testData[num,:])\n",
    "    r_cl = np.argmax(result1+result2)+1\n",
    "    if num>=i:\n",
    "        n = n+1\n",
    "        i = index[n]\n",
    "        cl = cl+1\n",
    "    if r_cl==cl:\n",
    "        res = res +1\n",
    "        \n",
    "print(res/908)"
   ]
  },
  {
   "cell_type": "code",
   "execution_count": null,
   "metadata": {
    "collapsed": true
   },
   "outputs": [],
   "source": []
  },
  {
   "cell_type": "code",
   "execution_count": null,
   "metadata": {
    "collapsed": true
   },
   "outputs": [],
   "source": []
  },
  {
   "cell_type": "code",
   "execution_count": 5,
   "metadata": {},
   "outputs": [
    {
     "name": "stderr",
     "output_type": "stream",
     "text": [
      "C:\\Users\\PangTouXian\\Anaconda3\\envs\\newTensorflowGpu\\lib\\site-packages\\ipykernel_launcher.py:11: UserWarning: Update your `Conv3D` call to the Keras 2 API: `Conv3D(64, (3, 3, 3), activation=\"relu\", padding=\"same\", input_shape=(16, 16, 1..., strides=(1, 1, 1))`\n",
      "  # This is added back by InteractiveShellApp.init_path()\n",
      "C:\\Users\\PangTouXian\\Anaconda3\\envs\\newTensorflowGpu\\lib\\site-packages\\ipykernel_launcher.py:12: UserWarning: Update your `Conv3D` call to the Keras 2 API: `Conv3D(64, (3, 3, 3), activation=\"relu\", padding=\"same\")`\n",
      "  if sys.path[0] == '':\n",
      "C:\\Users\\PangTouXian\\Anaconda3\\envs\\newTensorflowGpu\\lib\\site-packages\\ipykernel_launcher.py:16: UserWarning: Update your `Conv3D` call to the Keras 2 API: `Conv3D(128, (3, 3, 3), activation=\"relu\", padding=\"same\", strides=(1, 1, 1))`\n",
      "  app.launch_new_instance()\n",
      "C:\\Users\\PangTouXian\\Anaconda3\\envs\\newTensorflowGpu\\lib\\site-packages\\ipykernel_launcher.py:18: UserWarning: Update your `Conv3D` call to the Keras 2 API: `Conv3D(128, (3, 3, 3), activation=\"relu\", padding=\"same\", strides=(1, 1, 1))`\n",
      "C:\\Users\\PangTouXian\\Anaconda3\\envs\\newTensorflowGpu\\lib\\site-packages\\ipykernel_launcher.py:27: UserWarning: Update your `Conv3D` call to the Keras 2 API: `Conv3D(64, (2, 2, 2), activation=\"relu\", padding=\"same\", input_shape=(16, 16, 1..., strides=(1, 1, 1))`\n",
      "C:\\Users\\PangTouXian\\Anaconda3\\envs\\newTensorflowGpu\\lib\\site-packages\\ipykernel_launcher.py:29: UserWarning: Update your `Conv3D` call to the Keras 2 API: `Conv3D(64, (2, 2, 2), activation=\"relu\", padding=\"same\", strides=(1, 1, 1))`\n"
     ]
    },
    {
     "name": "stdout",
     "output_type": "stream",
     "text": [
      "(None, 10)\n"
     ]
    },
    {
     "name": "stderr",
     "output_type": "stream",
     "text": [
      "C:\\Users\\PangTouXian\\Anaconda3\\envs\\newTensorflowGpu\\lib\\site-packages\\ipykernel_launcher.py:33: UserWarning: Update your `Conv3D` call to the Keras 2 API: `Conv3D(128, (2, 2, 2), activation=\"relu\", padding=\"same\", strides=(1, 1, 1))`\n",
      "C:\\Users\\PangTouXian\\Anaconda3\\envs\\newTensorflowGpu\\lib\\site-packages\\ipykernel_launcher.py:35: UserWarning: Update your `Conv3D` call to the Keras 2 API: `Conv3D(128, (2, 2, 2), activation=\"relu\", padding=\"same\", strides=(1, 1, 1))`\n",
      "C:\\Users\\PangTouXian\\Anaconda3\\envs\\newTensorflowGpu\\lib\\site-packages\\ipykernel_launcher.py:43: UserWarning: The `merge` function is deprecated and will be removed after 08/2017. Use instead layers from `keras.layers.merge`, e.g. `add`, `concatenate`, etc.\n",
      "C:\\Users\\PangTouXian\\Anaconda3\\envs\\newTensorflowGpu\\lib\\site-packages\\keras\\legacy\\layers.py:464: UserWarning: The `Merge` layer is deprecated and will be removed after 08/2017. Use instead layers from `keras.layers.merge`, e.g. `add`, `concatenate`, etc.\n",
      "  name=name)\n"
     ]
    }
   ],
   "source": [
    "#new test\n",
    "\n",
    "num_filters1 = 64\n",
    "num_filters2 = 128\n",
    "filter_size1 = 3\n",
    "filter_size2 = 2\n",
    "\n",
    "def DefineModel_3():\n",
    "    input = Input(shape=(cubeDim,cubeDim,cubeDim,1))\n",
    "    conv1a = Convolution3D(num_filters1, filter_size1,filter_size1,filter_size1, strides=(1, 1, 1), activation='relu', \n",
    "                          padding='same',input_shape=(cubeDim,cubeDim,cubeDim, 1))(input)\n",
    "    conv1b = Convolution3D(num_filters1, filter_size1,filter_size1,filter_size1, padding='same',activation='relu')(conv1a)\n",
    "    pooling1a = MaxPooling3D(pool_size=(2, 2, 2))(conv1b)\n",
    "\n",
    "    conv1c = Convolution3D(num_filters2, filter_size1,filter_size1,filter_size1, strides=(1, 1, 1), activation='relu', \n",
    "                          padding='same')(pooling1a)\n",
    "    conv1d = Convolution3D(num_filters2, filter_size1,filter_size1,filter_size1, strides=(1, 1, 1), activation='relu', \n",
    "                          padding='same')(conv1c)\n",
    "    pooling1b = MaxPooling3D(pool_size=(2, 2, 2))(conv1d)\n",
    "\n",
    "    dropout1 = Dropout(0.5)(pooling1b)\n",
    "    \n",
    "    ''''''\n",
    "    flatten1 = Flatten()(dropout1)\n",
    "    \n",
    "    conv2a = Convolution3D(num_filters1, filter_size2, filter_size2, filter_size2,strides=(1, 1, 1), activation='relu', \n",
    "                          padding='same',input_shape=(cubeDim,cubeDim,cubeDim, 1))(input)\n",
    "    conv2b = Convolution3D(num_filters1, filter_size2, filter_size2, filter_size2,strides=(1, 1, 1), activation='relu', \n",
    "                          padding='same')(conv2a)\n",
    "    pooling2a = MaxPooling3D(pool_size=(2, 2, 2))(conv2b)\n",
    "    \n",
    "    conv2c = Convolution3D(num_filters2, filter_size2, filter_size2, filter_size2,strides=(1, 1, 1), activation='relu', \n",
    "                          padding='same')(pooling2a)\n",
    "    conv2d = Convolution3D(num_filters2, filter_size2, filter_size2, filter_size2,strides=(1, 1, 1), activation='relu', \n",
    "                          padding='same')(conv2c)\n",
    "\n",
    "    pooling2b = MaxPooling3D(pool_size=(2, 2, 2))(conv2d)\n",
    "    dropout2 = Dropout(0.5)(pooling2b)\n",
    "    \n",
    "    \n",
    "    ''''''\n",
    "    flatten2 = Flatten()(dropout2)\n",
    "    merged = merge([flatten1, flatten2],mode='concat',concat_axis=1,name='merged')\n",
    "    \n",
    "    '''merged = keras.layers.concatenate([dropout1, dropout2],axis=-1)'''\n",
    "\n",
    "    '''flatten = Flatten()(merged)'''\n",
    "    \n",
    "    dense1 = Dense(128,activation='relu')(merged)\n",
    "    dropout = Dropout(0.5)(dense1)\n",
    "    dense2 = Dense(10, activation='softmax')(dropout)\n",
    "    \n",
    "    model = Model(inputs=input, outputs=dense2)\n",
    "    \n",
    "    ''' optmzr = SGD(lr=0.1, clipnorm=5.)''' '''--88%'''\n",
    "    \n",
    "    optmzr = keras.optimizers.Adam(lr=0.001, beta_1=0.9, beta_2=0.999, epsilon=1e-08, decay=0.0)\n",
    "    model.compile(loss='categorical_crossentropy', optimizer=optmzr, metrics=[\"accuracy\"])\n",
    "    '''\n",
    "    \n",
    "    optmzr = keras.optimizers.Adagrad(lr=0.01, epsilon=1e-08, decay=0.0)   \n",
    "    model.compile(loss='categorical_crossentropy', optimizer=optmzr, metrics=[\"accuracy\"])'''\n",
    "    return model\n",
    "\n",
    "\n",
    "model = DefineModel_3()\n",
    "print(model.output_shape)\n"
   ]
  },
  {
   "cell_type": "code",
   "execution_count": 6,
   "metadata": {
    "collapsed": true
   },
   "outputs": [],
   "source": [
    "def TrainModel_3(data=None, epochs=20, batch=128):\n",
    "    start_time = time.time()\n",
    "    model = DefineModel_3()\n",
    "    if data is None:\n",
    "        print(\"Must provide data.\")\n",
    "        return\n",
    "    trainData,testData,trainLabel,testLabel = data\n",
    "    print('Start training.')\n",
    "\n",
    "    history = model.fit(trainData, trainLabel, nb_epoch=epochs, batch_size=batch,\n",
    "              validation_data=(testData, testLabel),verbose=1,shuffle=True)\n",
    "    print(\"Training took {0} seconds.\".format(time.time() - start_time))\n",
    "    return model, history"
   ]
  },
  {
   "cell_type": "code",
   "execution_count": 7,
   "metadata": {},
   "outputs": [
    {
     "name": "stderr",
     "output_type": "stream",
     "text": [
      "C:\\Users\\PangTouXian\\Anaconda3\\envs\\newTensorflowGpu\\lib\\site-packages\\ipykernel_launcher.py:11: UserWarning: Update your `Conv3D` call to the Keras 2 API: `Conv3D(64, (3, 3, 3), activation=\"relu\", padding=\"same\", input_shape=(16, 16, 1..., strides=(1, 1, 1))`\n",
      "  # This is added back by InteractiveShellApp.init_path()\n",
      "C:\\Users\\PangTouXian\\Anaconda3\\envs\\newTensorflowGpu\\lib\\site-packages\\ipykernel_launcher.py:12: UserWarning: Update your `Conv3D` call to the Keras 2 API: `Conv3D(64, (3, 3, 3), activation=\"relu\", padding=\"same\")`\n",
      "  if sys.path[0] == '':\n",
      "C:\\Users\\PangTouXian\\Anaconda3\\envs\\newTensorflowGpu\\lib\\site-packages\\ipykernel_launcher.py:16: UserWarning: Update your `Conv3D` call to the Keras 2 API: `Conv3D(128, (3, 3, 3), activation=\"relu\", padding=\"same\", strides=(1, 1, 1))`\n",
      "  app.launch_new_instance()\n",
      "C:\\Users\\PangTouXian\\Anaconda3\\envs\\newTensorflowGpu\\lib\\site-packages\\ipykernel_launcher.py:18: UserWarning: Update your `Conv3D` call to the Keras 2 API: `Conv3D(128, (3, 3, 3), activation=\"relu\", padding=\"same\", strides=(1, 1, 1))`\n",
      "C:\\Users\\PangTouXian\\Anaconda3\\envs\\newTensorflowGpu\\lib\\site-packages\\ipykernel_launcher.py:27: UserWarning: Update your `Conv3D` call to the Keras 2 API: `Conv3D(64, (2, 2, 2), activation=\"relu\", padding=\"same\", input_shape=(16, 16, 1..., strides=(1, 1, 1))`\n",
      "C:\\Users\\PangTouXian\\Anaconda3\\envs\\newTensorflowGpu\\lib\\site-packages\\ipykernel_launcher.py:29: UserWarning: Update your `Conv3D` call to the Keras 2 API: `Conv3D(64, (2, 2, 2), activation=\"relu\", padding=\"same\", strides=(1, 1, 1))`\n",
      "C:\\Users\\PangTouXian\\Anaconda3\\envs\\newTensorflowGpu\\lib\\site-packages\\ipykernel_launcher.py:33: UserWarning: Update your `Conv3D` call to the Keras 2 API: `Conv3D(128, (2, 2, 2), activation=\"relu\", padding=\"same\", strides=(1, 1, 1))`\n",
      "C:\\Users\\PangTouXian\\Anaconda3\\envs\\newTensorflowGpu\\lib\\site-packages\\ipykernel_launcher.py:35: UserWarning: Update your `Conv3D` call to the Keras 2 API: `Conv3D(128, (2, 2, 2), activation=\"relu\", padding=\"same\", strides=(1, 1, 1))`\n",
      "C:\\Users\\PangTouXian\\Anaconda3\\envs\\newTensorflowGpu\\lib\\site-packages\\ipykernel_launcher.py:43: UserWarning: The `merge` function is deprecated and will be removed after 08/2017. Use instead layers from `keras.layers.merge`, e.g. `add`, `concatenate`, etc.\n",
      "C:\\Users\\PangTouXian\\Anaconda3\\envs\\newTensorflowGpu\\lib\\site-packages\\keras\\legacy\\layers.py:464: UserWarning: The `Merge` layer is deprecated and will be removed after 08/2017. Use instead layers from `keras.layers.merge`, e.g. `add`, `concatenate`, etc.\n",
      "  name=name)\n",
      "C:\\Users\\PangTouXian\\Anaconda3\\envs\\newTensorflowGpu\\lib\\site-packages\\ipykernel_launcher.py:11: UserWarning: The `nb_epoch` argument in `fit` has been renamed `epochs`.\n",
      "  # This is added back by InteractiveShellApp.init_path()\n"
     ]
    },
    {
     "name": "stdout",
     "output_type": "stream",
     "text": [
      "Start training.\n",
      "Train on 3991 samples, validate on 908 samples\n",
      "Epoch 1/20\n",
      "3991/3991 [==============================] - 36s 9ms/step - loss: 1.1115 - acc: 0.6477 - val_loss: 0.5956 - val_acc: 0.7885\n",
      "Epoch 2/20\n",
      "3991/3991 [==============================] - 26s 6ms/step - loss: 0.4211 - acc: 0.8634 - val_loss: 0.4420 - val_acc: 0.8436\n",
      "Epoch 3/20\n",
      "3991/3991 [==============================] - 26s 7ms/step - loss: 0.3224 - acc: 0.8905 - val_loss: 0.3837 - val_acc: 0.8744\n",
      "Epoch 4/20\n",
      "3991/3991 [==============================] - 26s 7ms/step - loss: 0.2377 - acc: 0.9173 - val_loss: 0.3473 - val_acc: 0.8844\n",
      "Epoch 5/20\n",
      "3991/3991 [==============================] - 26s 7ms/step - loss: 0.2044 - acc: 0.9291 - val_loss: 0.3555 - val_acc: 0.8811\n",
      "Epoch 6/20\n",
      "3991/3991 [==============================] - 27s 7ms/step - loss: 0.1685 - acc: 0.9406 - val_loss: 0.3883 - val_acc: 0.8822\n",
      "Epoch 7/20\n",
      "3991/3991 [==============================] - 27s 7ms/step - loss: 0.1680 - acc: 0.9461 - val_loss: 0.3685 - val_acc: 0.8976\n",
      "Epoch 8/20\n",
      "3991/3991 [==============================] - 27s 7ms/step - loss: 0.1324 - acc: 0.9557 - val_loss: 0.3129 - val_acc: 0.8811\n",
      "Epoch 9/20\n",
      "3991/3991 [==============================] - 27s 7ms/step - loss: 0.1301 - acc: 0.9551 - val_loss: 0.3585 - val_acc: 0.8833\n",
      "Epoch 10/20\n",
      "3991/3991 [==============================] - 27s 7ms/step - loss: 0.1136 - acc: 0.9582 - val_loss: 0.4309 - val_acc: 0.8733\n",
      "Epoch 11/20\n",
      "3991/3991 [==============================] - 27s 7ms/step - loss: 0.0887 - acc: 0.9674 - val_loss: 0.3802 - val_acc: 0.8899\n",
      "Epoch 12/20\n",
      "3991/3991 [==============================] - 27s 7ms/step - loss: 0.1133 - acc: 0.9604 - val_loss: 0.3487 - val_acc: 0.8976\n",
      "Epoch 13/20\n",
      "3991/3991 [==============================] - 27s 7ms/step - loss: 0.0852 - acc: 0.9699 - val_loss: 0.4080 - val_acc: 0.8822\n",
      "Epoch 14/20\n",
      "3991/3991 [==============================] - 27s 7ms/step - loss: 0.0889 - acc: 0.9679 - val_loss: 0.3999 - val_acc: 0.8921\n",
      "Epoch 15/20\n",
      "3991/3991 [==============================] - 27s 7ms/step - loss: 0.0699 - acc: 0.9727 - val_loss: 0.4681 - val_acc: 0.8700\n",
      "Epoch 16/20\n",
      "3991/3991 [==============================] - 27s 7ms/step - loss: 0.0921 - acc: 0.9632 - val_loss: 0.4240 - val_acc: 0.8888\n",
      "Epoch 17/20\n",
      "3991/3991 [==============================] - 27s 7ms/step - loss: 0.0719 - acc: 0.9732 - val_loss: 0.4199 - val_acc: 0.8921\n",
      "Epoch 18/20\n",
      "3991/3991 [==============================] - 27s 7ms/step - loss: 0.0491 - acc: 0.9802 - val_loss: 0.4318 - val_acc: 0.8976\n",
      "Epoch 19/20\n",
      "3991/3991 [==============================] - 27s 7ms/step - loss: 0.0565 - acc: 0.9817 - val_loss: 0.3665 - val_acc: 0.9042\n",
      "Epoch 20/20\n",
      "3991/3991 [==============================] - 27s 7ms/step - loss: 0.0442 - acc: 0.9820 - val_loss: 0.4751 - val_acc: 0.8811\n",
      "Training took 548.4698128700256 seconds.\n"
     ]
    }
   ],
   "source": [
    "trained_model_3, training_history_3 = TrainModel_3(data=[trainData,testData,trainLabel,testLabel])"
   ]
  },
  {
   "cell_type": "code",
   "execution_count": 11,
   "metadata": {
    "collapsed": true
   },
   "outputs": [],
   "source": [
    "def TestModel(model=None, data=None):\n",
    "    if model is None:\n",
    "        print(\"Must provide a trained model.\")\n",
    "        return\n",
    "    if data is None:\n",
    "        print(\"Must provide data.\")\n",
    "        return\n",
    "    \n",
    "    result =model.predict_on_batch(np.reshape(data,[1,16,16,16,1]))\n",
    "    return result"
   ]
  },
  {
   "cell_type": "code",
   "execution_count": null,
   "metadata": {},
   "outputs": [],
   "source": [
    "index = [50,150,250,336,422,522,608,708,808,908]\n",
    "n = 0\n",
    "i = index[n]\n",
    "cl = 1\n",
    "res = 0\n",
    "for num in range (0,908):\n",
    "    result1 = TestModel(trained_model_1, testData[num,:])\n",
    "    result2 = TestModel(trained_model_3, testData[num,:])\n",
    "    r_cl = np.argmax(result1+result2)+1\n",
    "    if num>=i:\n",
    "        n = n+1\n",
    "        i = index[n]\n",
    "        cl = cl+1\n",
    "    if r_cl==cl:\n",
    "        res = res +1\n",
    "        \n",
    "print(res/908)"
   ]
  },
  {
   "cell_type": "code",
   "execution_count": null,
   "metadata": {
    "collapsed": true
   },
   "outputs": [],
   "source": []
  }
 ],
 "metadata": {
  "kernelspec": {
   "display_name": "Python 3",
   "language": "python",
   "name": "python3"
  },
  "language_info": {
   "codemirror_mode": {
    "name": "ipython",
    "version": 3
   },
   "file_extension": ".py",
   "mimetype": "text/x-python",
   "name": "python",
   "nbconvert_exporter": "python",
   "pygments_lexer": "ipython3",
   "version": "3.7.4"
  }
 },
 "nbformat": 4,
 "nbformat_minor": 2
}
