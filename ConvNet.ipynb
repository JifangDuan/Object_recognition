{
 "cells": [
  {
   "cell_type": "code",
   "execution_count": 4,
   "metadata": {},
   "outputs": [
    {
     "name": "stderr",
     "output_type": "stream",
     "text": [
      "Using TensorFlow backend.\n"
     ]
    }
   ],
   "source": [
    "import scipy.io as sio\n",
    "import numpy as np\n",
    "\n",
    "from __future__ import print_function\n",
    "\n",
    "import keras.callbacks as cb\n",
    "import keras\n",
    "from keras.layers import Input, Activation, Dense, Dropout, Flatten, merge\n",
    "from keras.layers import Convolution3D, MaxPooling3D\n",
    "from keras.models import Sequential, Model\n",
    "from keras.optimizers import SGD,Adadelta\n",
    "from keras.regularizers import l1, l2\n",
    "from keras.utils import np_utils\n",
    "from keras import layers\n",
    "from keras import backend as K  \n",
    "from IPython.core.debugger import Tracer\n",
    "from random import shuffle\n",
    "\n",
    "%matplotlib inline\n",
    "from matplotlib import pyplot as plt\n",
    "import time\n",
    "\n",
    "import pickle\n"
   ]
  },
  {
   "cell_type": "code",
   "execution_count": 5,
   "metadata": {
    "collapsed": true
   },
   "outputs": [],
   "source": [
    "pkl_file = open('C:\\\\Users\\\\PangTouXian\\\\Documents\\\\Python_scripts\\\\cnnChair\\\\data\\\\cubeTest16_1dir', 'rb')\n",
    "cubeTest16 = pickle.load(pkl_file)\n",
    "pkl_file.close()\n",
    "pkl_file = open('C:\\\\Users\\\\PangTouXian\\\\Documents\\\\Python_scripts\\\\cnnChair\\\\data\\\\cubeTrain16_1dir', 'rb')\n",
    "cubeTrain16 = pickle.load(pkl_file)\n",
    "pkl_file.close()\n",
    "cubeDim = 16"
   ]
  },
  {
   "cell_type": "code",
   "execution_count": 6,
   "metadata": {},
   "outputs": [
    {
     "name": "stdout",
     "output_type": "stream",
     "text": [
      "(3991, 16, 16, 16)\n",
      "(3991,)\n",
      "0.0\n",
      "[1. 0. 0. 0. 0. 0. 0. 0. 0. 0.]\n",
      "(3991, 10)\n",
      "(908, 10)\n",
      "(3991, 16, 16, 16, 1)\n"
     ]
    }
   ],
   "source": [
    "def PreprocessDataset():\n",
    "    # Load dataset\n",
    "    trainData = cubeTrain16\n",
    "    testData = cubeTest16\n",
    "    trainLabel =np.concatenate((np.zeros(106),np.ones(515),2*np.ones(889),3*np.ones(200),4*np.ones(200),\n",
    "                                5*np.ones(465),6*np.ones(200),7*np.ones(680),8*np.ones(392),9*np.ones(344)))\n",
    "    testLabel =np.concatenate((np.zeros(50),np.ones(100),2*np.ones(100),3*np.ones(86),4*np.ones(86),\n",
    "                               5*np.ones(100),6*np.ones(86),7*np.ones(100),8*np.ones(100),9*np.ones(100))) \n",
    "    print (trainData.shape)\n",
    "    print(trainLabel.shape) \n",
    "    \n",
    "    # Transform lables to one-hot\n",
    "    print(trainLabel[0])\n",
    "    trainLabel = np_utils.to_categorical(trainLabel, 10)\n",
    "    testLabel = np_utils.to_categorical(testLabel, 10)\n",
    "    print(trainLabel[0])\n",
    "    print(trainLabel.shape)\n",
    "    print(testLabel.shape)\n",
    "    \n",
    "    # Reshape\n",
    "    trainData = trainData.reshape(trainData.shape[0], cubeDim,cubeDim,cubeDim, 1)\n",
    "    testData = testData.reshape(testData.shape[0], cubeDim,cubeDim,cubeDim, 1)\n",
    "    print(trainData.shape)\n",
    "    return [trainData,testData,trainLabel,testLabel]\n",
    "\n",
    "trainData,testData,trainLabel,testLabel = PreprocessDataset()"
   ]
  },
  {
   "cell_type": "code",
   "execution_count": 7,
   "metadata": {},
   "outputs": [
    {
     "name": "stderr",
     "output_type": "stream",
     "text": [
      "C:\\Users\\PangTouXian\\Anaconda3\\envs\\newTensorflowGpu\\lib\\site-packages\\ipykernel_launcher.py:5: UserWarning: Update your `Conv3D` call to the Keras 2 API: `Conv3D(64, (3, 3, 3), activation=\"relu\", padding=\"same\", strides=(1, 1, 1))`\n",
      "  \"\"\"\n",
      "C:\\Users\\PangTouXian\\Anaconda3\\envs\\newTensorflowGpu\\lib\\site-packages\\ipykernel_launcher.py:7: UserWarning: Update your `Conv3D` call to the Keras 2 API: `Conv3D(64, (2, 2, 2), activation=\"relu\", padding=\"same\", strides=(1, 1, 1))`\n",
      "  import sys\n",
      "C:\\Users\\PangTouXian\\Anaconda3\\envs\\newTensorflowGpu\\lib\\site-packages\\ipykernel_launcher.py:8: UserWarning: The `merge` function is deprecated and will be removed after 08/2017. Use instead layers from `keras.layers.merge`, e.g. `add`, `concatenate`, etc.\n",
      "  \n",
      "C:\\Users\\PangTouXian\\Anaconda3\\envs\\newTensorflowGpu\\lib\\site-packages\\keras\\legacy\\layers.py:464: UserWarning: The `Merge` layer is deprecated and will be removed after 08/2017. Use instead layers from `keras.layers.merge`, e.g. `add`, `concatenate`, etc.\n",
      "  name=name)\n",
      "C:\\Users\\PangTouXian\\Anaconda3\\envs\\newTensorflowGpu\\lib\\site-packages\\ipykernel_launcher.py:14: UserWarning: Update your `Conv3D` call to the Keras 2 API: `Conv3D(64, (1, 1, 1), activation=\"relu\", padding=\"same\", strides=(1, 1, 1))`\n",
      "  \n",
      "C:\\Users\\PangTouXian\\Anaconda3\\envs\\newTensorflowGpu\\lib\\site-packages\\ipykernel_launcher.py:16: UserWarning: Update your `Conv3D` call to the Keras 2 API: `Conv3D(128, (3, 3, 3), activation=\"relu\", padding=\"same\", strides=(1, 1, 1))`\n",
      "  app.launch_new_instance()\n",
      "C:\\Users\\PangTouXian\\Anaconda3\\envs\\newTensorflowGpu\\lib\\site-packages\\ipykernel_launcher.py:18: UserWarning: Update your `Conv3D` call to the Keras 2 API: `Conv3D(64, (1, 1, 1), activation=\"relu\", padding=\"same\", strides=(1, 1, 1))`\n",
      "C:\\Users\\PangTouXian\\Anaconda3\\envs\\newTensorflowGpu\\lib\\site-packages\\ipykernel_launcher.py:20: UserWarning: Update your `Conv3D` call to the Keras 2 API: `Conv3D(128, (2, 2, 2), activation=\"relu\", padding=\"same\", strides=(1, 1, 1))`\n",
      "C:\\Users\\PangTouXian\\Anaconda3\\envs\\newTensorflowGpu\\lib\\site-packages\\ipykernel_launcher.py:22: UserWarning: Update your `Conv3D` call to the Keras 2 API: `Conv3D(64, (1, 1, 1), activation=\"relu\", padding=\"same\", strides=(1, 1, 1))`\n",
      "C:\\Users\\PangTouXian\\Anaconda3\\envs\\newTensorflowGpu\\lib\\site-packages\\ipykernel_launcher.py:23: UserWarning: The `merge` function is deprecated and will be removed after 08/2017. Use instead layers from `keras.layers.merge`, e.g. `add`, `concatenate`, etc.\n",
      "C:\\Users\\PangTouXian\\Anaconda3\\envs\\newTensorflowGpu\\lib\\site-packages\\ipykernel_launcher.py:29: UserWarning: Update your `Conv3D` call to the Keras 2 API: `Conv3D(128, (1, 1, 1), activation=\"relu\", padding=\"same\", strides=(1, 1, 1))`\n"
     ]
    },
    {
     "name": "stdout",
     "output_type": "stream",
     "text": [
      "(?, 16, 16, 16, 128)\n",
      "(?, 8, 8, 8, 320)\n",
      "(?, 4, 4, 4, 640)\n",
      "(None, 10)\n"
     ]
    },
    {
     "name": "stderr",
     "output_type": "stream",
     "text": [
      "C:\\Users\\PangTouXian\\Anaconda3\\envs\\newTensorflowGpu\\lib\\site-packages\\ipykernel_launcher.py:31: UserWarning: Update your `Conv3D` call to the Keras 2 API: `Conv3D(256, (3, 3, 3), activation=\"relu\", padding=\"same\", strides=(1, 1, 1))`\n",
      "C:\\Users\\PangTouXian\\Anaconda3\\envs\\newTensorflowGpu\\lib\\site-packages\\ipykernel_launcher.py:33: UserWarning: Update your `Conv3D` call to the Keras 2 API: `Conv3D(128, (1, 1, 1), activation=\"relu\", padding=\"same\", strides=(1, 1, 1))`\n",
      "C:\\Users\\PangTouXian\\Anaconda3\\envs\\newTensorflowGpu\\lib\\site-packages\\ipykernel_launcher.py:35: UserWarning: Update your `Conv3D` call to the Keras 2 API: `Conv3D(256, (2, 2, 2), activation=\"relu\", padding=\"same\", strides=(1, 1, 1))`\n",
      "C:\\Users\\PangTouXian\\Anaconda3\\envs\\newTensorflowGpu\\lib\\site-packages\\ipykernel_launcher.py:37: UserWarning: Update your `Conv3D` call to the Keras 2 API: `Conv3D(128, (1, 1, 1), activation=\"relu\", padding=\"same\", strides=(1, 1, 1))`\n",
      "C:\\Users\\PangTouXian\\Anaconda3\\envs\\newTensorflowGpu\\lib\\site-packages\\ipykernel_launcher.py:38: UserWarning: The `merge` function is deprecated and will be removed after 08/2017. Use instead layers from `keras.layers.merge`, e.g. `add`, `concatenate`, etc.\n"
     ]
    }
   ],
   "source": [
    "def DefineModel_1():\n",
    "    input = Input(shape=(cubeDim,cubeDim,cubeDim,1))\n",
    "    \n",
    "    conv1a = Convolution3D(64,3,3,3,strides=(1, 1, 1), activation='relu', \n",
    "                          padding='same')(input)\n",
    "    conv1b = Convolution3D(64,2,2,2,strides=(1, 1, 1), activation='relu', \n",
    "                          padding='same')(input)\n",
    "    merged1 = merge([conv1a,conv1b],mode='concat',concat_axis=-1)\n",
    "    print(np.shape(merged1))\n",
    "    pooling1 = MaxPooling3D(pool_size=(2, 2, 2))(merged1)\n",
    "    dropout = Dropout(0.5)(pooling1)\n",
    "    \n",
    "    conv2a = Convolution3D(64,1,1,1,strides=(1, 1, 1), activation='relu', \n",
    "                          padding='same')(pooling1)\n",
    "    conv2b = Convolution3D(128,3,3,3,strides=(1, 1, 1), activation='relu', \n",
    "                          padding='same')(conv2a)\n",
    "    conv2c = Convolution3D(64,1,1,1,strides=(1, 1, 1), activation='relu', \n",
    "                          padding='same')(pooling1)\n",
    "    conv2d = Convolution3D(128,2,2,2,strides=(1, 1, 1), activation='relu', \n",
    "                          padding='same')(conv2c)\n",
    "    conv2e = Convolution3D(64,1,1,1,strides=(1, 1, 1), activation='relu', \n",
    "                          padding='same')(pooling1) \n",
    "    merged2 = merge([conv2b,conv2d,conv2e],mode='concat',concat_axis=-1)\n",
    "    print(np.shape(merged2))\n",
    "    pooling2 = MaxPooling3D(pool_size=(2, 2, 2))(merged2)\n",
    "    dropout = Dropout(0.5)(pooling2)\n",
    "    \n",
    "    conv3a = Convolution3D(128,1,1,1,strides=(1, 1, 1), activation='relu', \n",
    "                          padding='same')(pooling2)\n",
    "    conv3b = Convolution3D(256,3,3,3,strides=(1, 1, 1), activation='relu', \n",
    "                          padding='same')(conv3a)\n",
    "    conv3c = Convolution3D(128,1,1,1,strides=(1, 1, 1), activation='relu', \n",
    "                          padding='same')(pooling2)\n",
    "    conv3d = Convolution3D(256,2,2,2,strides=(1, 1, 1), activation='relu', \n",
    "                          padding='same')(conv3c)\n",
    "    conv3e = Convolution3D(128,1,1,1,strides=(1, 1, 1), activation='relu', \n",
    "                          padding='same')(pooling2)\n",
    "    merged3 = merge([conv3b,conv3d,conv3e],mode='concat',concat_axis=-1)\n",
    "    print(np.shape(merged3))\n",
    "    flatten2 = Flatten()(merged3)    \n",
    "    \n",
    "    dense1 = Dense(256,activation='relu')(flatten2)\n",
    "    dropout = Dropout(0.5)(dense1)\n",
    "    dense2 = Dense(10, activation='softmax')(dropout)\n",
    "    model = Model(inputs=input, outputs=dense2)\n",
    "    \n",
    "    optmzr = keras.optimizers.Adam(lr=0.001, beta_1=0.9, beta_2=0.999, epsilon=1e-08, decay=0.0)\n",
    "    model.compile(loss='categorical_crossentropy', optimizer=optmzr, metrics=[\"accuracy\"])\n",
    " \n",
    "    return model\n",
    "\n",
    "model = DefineModel_1()\n",
    "print(model.output_shape)\n"
   ]
  },
  {
   "cell_type": "code",
   "execution_count": 8,
   "metadata": {
    "collapsed": true
   },
   "outputs": [],
   "source": [
    "def TrainModel_1(data=None, epochs=20, batch=128):\n",
    "    start_time = time.time()\n",
    "    model = DefineModel_1()\n",
    "    if data is None:\n",
    "        print(\"Must provide data.\")\n",
    "        return\n",
    "    trainData,testData,trainLabel,testLabel = data\n",
    "    print('Start training.')\n",
    "\n",
    "    history = model.fit(trainData, trainLabel, nb_epoch=epochs, batch_size=batch,\n",
    "              validation_data=(testData, testLabel),verbose=1,shuffle=True)\n",
    "    print(\"Training took {0} seconds.\".format(time.time() - start_time))\n",
    "    return model, history"
   ]
  },
  {
   "cell_type": "code",
   "execution_count": null,
   "metadata": {},
   "outputs": [
    {
     "name": "stderr",
     "output_type": "stream",
     "text": [
      "C:\\Users\\PangTouXian\\Anaconda3\\envs\\newTensorflowGpu\\lib\\site-packages\\ipykernel_launcher.py:5: UserWarning: Update your `Conv3D` call to the Keras 2 API: `Conv3D(64, (3, 3, 3), activation=\"relu\", padding=\"same\", strides=(1, 1, 1))`\n",
      "  \"\"\"\n",
      "C:\\Users\\PangTouXian\\Anaconda3\\envs\\newTensorflowGpu\\lib\\site-packages\\ipykernel_launcher.py:7: UserWarning: Update your `Conv3D` call to the Keras 2 API: `Conv3D(64, (2, 2, 2), activation=\"relu\", padding=\"same\", strides=(1, 1, 1))`\n",
      "  import sys\n",
      "C:\\Users\\PangTouXian\\Anaconda3\\envs\\newTensorflowGpu\\lib\\site-packages\\ipykernel_launcher.py:8: UserWarning: The `merge` function is deprecated and will be removed after 08/2017. Use instead layers from `keras.layers.merge`, e.g. `add`, `concatenate`, etc.\n",
      "  \n",
      "C:\\Users\\PangTouXian\\Anaconda3\\envs\\newTensorflowGpu\\lib\\site-packages\\keras\\legacy\\layers.py:464: UserWarning: The `Merge` layer is deprecated and will be removed after 08/2017. Use instead layers from `keras.layers.merge`, e.g. `add`, `concatenate`, etc.\n",
      "  name=name)\n",
      "C:\\Users\\PangTouXian\\Anaconda3\\envs\\newTensorflowGpu\\lib\\site-packages\\ipykernel_launcher.py:14: UserWarning: Update your `Conv3D` call to the Keras 2 API: `Conv3D(64, (1, 1, 1), activation=\"relu\", padding=\"same\", strides=(1, 1, 1))`\n",
      "  \n",
      "C:\\Users\\PangTouXian\\Anaconda3\\envs\\newTensorflowGpu\\lib\\site-packages\\ipykernel_launcher.py:16: UserWarning: Update your `Conv3D` call to the Keras 2 API: `Conv3D(128, (3, 3, 3), activation=\"relu\", padding=\"same\", strides=(1, 1, 1))`\n",
      "  app.launch_new_instance()\n",
      "C:\\Users\\PangTouXian\\Anaconda3\\envs\\newTensorflowGpu\\lib\\site-packages\\ipykernel_launcher.py:18: UserWarning: Update your `Conv3D` call to the Keras 2 API: `Conv3D(64, (1, 1, 1), activation=\"relu\", padding=\"same\", strides=(1, 1, 1))`\n",
      "C:\\Users\\PangTouXian\\Anaconda3\\envs\\newTensorflowGpu\\lib\\site-packages\\ipykernel_launcher.py:20: UserWarning: Update your `Conv3D` call to the Keras 2 API: `Conv3D(128, (2, 2, 2), activation=\"relu\", padding=\"same\", strides=(1, 1, 1))`\n",
      "C:\\Users\\PangTouXian\\Anaconda3\\envs\\newTensorflowGpu\\lib\\site-packages\\ipykernel_launcher.py:22: UserWarning: Update your `Conv3D` call to the Keras 2 API: `Conv3D(64, (1, 1, 1), activation=\"relu\", padding=\"same\", strides=(1, 1, 1))`\n",
      "C:\\Users\\PangTouXian\\Anaconda3\\envs\\newTensorflowGpu\\lib\\site-packages\\ipykernel_launcher.py:23: UserWarning: The `merge` function is deprecated and will be removed after 08/2017. Use instead layers from `keras.layers.merge`, e.g. `add`, `concatenate`, etc.\n",
      "C:\\Users\\PangTouXian\\Anaconda3\\envs\\newTensorflowGpu\\lib\\site-packages\\ipykernel_launcher.py:29: UserWarning: Update your `Conv3D` call to the Keras 2 API: `Conv3D(128, (1, 1, 1), activation=\"relu\", padding=\"same\", strides=(1, 1, 1))`\n"
     ]
    },
    {
     "name": "stdout",
     "output_type": "stream",
     "text": [
      "(?, 16, 16, 16, 128)\n",
      "(?, 8, 8, 8, 320)\n"
     ]
    },
    {
     "name": "stderr",
     "output_type": "stream",
     "text": [
      "C:\\Users\\PangTouXian\\Anaconda3\\envs\\newTensorflowGpu\\lib\\site-packages\\ipykernel_launcher.py:31: UserWarning: Update your `Conv3D` call to the Keras 2 API: `Conv3D(256, (3, 3, 3), activation=\"relu\", padding=\"same\", strides=(1, 1, 1))`\n",
      "C:\\Users\\PangTouXian\\Anaconda3\\envs\\newTensorflowGpu\\lib\\site-packages\\ipykernel_launcher.py:33: UserWarning: Update your `Conv3D` call to the Keras 2 API: `Conv3D(128, (1, 1, 1), activation=\"relu\", padding=\"same\", strides=(1, 1, 1))`\n",
      "C:\\Users\\PangTouXian\\Anaconda3\\envs\\newTensorflowGpu\\lib\\site-packages\\ipykernel_launcher.py:35: UserWarning: Update your `Conv3D` call to the Keras 2 API: `Conv3D(256, (2, 2, 2), activation=\"relu\", padding=\"same\", strides=(1, 1, 1))`\n",
      "C:\\Users\\PangTouXian\\Anaconda3\\envs\\newTensorflowGpu\\lib\\site-packages\\ipykernel_launcher.py:37: UserWarning: Update your `Conv3D` call to the Keras 2 API: `Conv3D(128, (1, 1, 1), activation=\"relu\", padding=\"same\", strides=(1, 1, 1))`\n",
      "C:\\Users\\PangTouXian\\Anaconda3\\envs\\newTensorflowGpu\\lib\\site-packages\\ipykernel_launcher.py:38: UserWarning: The `merge` function is deprecated and will be removed after 08/2017. Use instead layers from `keras.layers.merge`, e.g. `add`, `concatenate`, etc.\n",
      "C:\\Users\\PangTouXian\\Anaconda3\\envs\\newTensorflowGpu\\lib\\site-packages\\ipykernel_launcher.py:11: UserWarning: The `nb_epoch` argument in `fit` has been renamed `epochs`.\n",
      "  # This is added back by InteractiveShellApp.init_path()\n"
     ]
    },
    {
     "name": "stdout",
     "output_type": "stream",
     "text": [
      "(?, 4, 4, 4, 640)\n",
      "Start training.\n",
      "Train on 3991 samples, validate on 908 samples\n",
      "Epoch 1/20\n"
     ]
    }
   ],
   "source": [
    "trained_model_1, training_history_1 = TrainModel_1(data=[trainData,testData,trainLabel,testLabel])"
   ]
  },
  {
   "cell_type": "code",
   "execution_count": null,
   "metadata": {
    "collapsed": true
   },
   "outputs": [],
   "source": []
  },
  {
   "cell_type": "code",
   "execution_count": null,
   "metadata": {
    "collapsed": true
   },
   "outputs": [],
   "source": [
    "#original\n",
    "\n",
    "num_filters1 = 64\n",
    "num_filters2 = 128\n",
    "filter_size1 = 3\n",
    "filter_size2 = 2\n",
    "\n",
    "def DefineModel_2():\n",
    "    input = Input(shape=(cubeDim,cubeDim,cubeDim,1))\n",
    "    conv1a = Convolution3D(num_filters1, filter_size1,filter_size1,filter_size1, strides=(1, 1, 1), activation='relu', \n",
    "                          padding='valid',input_shape=(cubeDim,cubeDim,cubeDim, 1))(input)\n",
    "    conv1b = Convolution3D(num_filters1, filter_size1,filter_size1,filter_size1, activation='relu')(conv1a)\n",
    "    pooling1a = MaxPooling3D(pool_size=(2, 2, 2))(conv1b)\n",
    "    print(np.shape(conv1a))    \n",
    "    print(np.shape(input))\n",
    "    conv1c = Convolution3D(num_filters2, filter_size1,filter_size1,filter_size1, strides=(1, 1, 1), activation='relu', \n",
    "                          padding='valid')(pooling1a)\n",
    "    conv1d = Convolution3D(num_filters2, filter_size1,filter_size1,filter_size1, strides=(1, 1, 1), activation='relu', \n",
    "                          padding='valid')(conv1c)\n",
    "    pooling1b = MaxPooling3D(pool_size=(2, 2, 2))(conv1d)\n",
    "\n",
    "    dropout1 = Dropout(0.5)(pooling1b)\n",
    "    \n",
    "    ''''''\n",
    "    flatten1 = Flatten()(dropout1)\n",
    "    \n",
    "    conv2a = Convolution3D(num_filters1, filter_size2, filter_size2, filter_size2,strides=(1, 1, 1), activation='relu', \n",
    "                          padding='valid',input_shape=(cubeDim,cubeDim,cubeDim, 1))(input)\n",
    "    conv2b = Convolution3D(num_filters1, filter_size2, filter_size2, filter_size2,strides=(1, 1, 1), activation='relu', \n",
    "                          padding='valid')(conv2a)\n",
    "    pooling2a = MaxPooling3D(pool_size=(2, 2, 2))(conv2b)\n",
    "    \n",
    "    conv2c = Convolution3D(num_filters2, filter_size2, filter_size2, filter_size2,strides=(1, 1, 1), activation='relu', \n",
    "                          padding='valid')(pooling2a)\n",
    "    conv2d = Convolution3D(num_filters2, filter_size2, filter_size2, filter_size2,strides=(1, 1, 1), activation='relu', \n",
    "                          padding='valid')(conv2c)\n",
    "    pooling2b = MaxPooling3D(pool_size=(2, 2, 2))(conv2d)\n",
    "    dropout2 = Dropout(0.5)(pooling2b)\n",
    "    \n",
    "    \n",
    "    ''''''\n",
    "    flatten2 = Flatten()(dropout2)\n",
    "    merged = merge([flatten1, flatten2],mode='concat',concat_axis=1,name='merged')\n",
    "    \n",
    "    '''merged = keras.layers.concatenate([dropout1, dropout2],axis=-1)'''\n",
    "\n",
    "    '''flatten = Flatten()(merged)'''\n",
    "    \n",
    "    dense1 = Dense(128,activation='relu')(merged)\n",
    "    dropout = Dropout(0.5)(dense1)\n",
    "    dense2 = Dense(10, activation='softmax')(dropout)\n",
    "    \n",
    "    model = Model(inputs=input, outputs=dense2)\n",
    "    \n",
    "    ''' optmzr = SGD(lr=0.1, clipnorm=5.)''' '''--88%'''\n",
    "    \n",
    "    optmzr = keras.optimizers.Adam(lr=0.001, beta_1=0.9, beta_2=0.999, epsilon=1e-08, decay=0.0)\n",
    "    model.compile(loss='categorical_crossentropy', optimizer=optmzr, metrics=[\"accuracy\"])\n",
    "    '''\n",
    "    \n",
    "    optmzr = keras.optimizers.Adagrad(lr=0.01, epsilon=1e-08, decay=0.0)   \n",
    "    model.compile(loss='categorical_crossentropy', optimizer=optmzr, metrics=[\"accuracy\"])'''\n",
    "    return model\n",
    "\n",
    "\n",
    "model = DefineModel_2()\n",
    "print(model.output_shape)\n"
   ]
  },
  {
   "cell_type": "code",
   "execution_count": null,
   "metadata": {
    "collapsed": true
   },
   "outputs": [],
   "source": [
    "def TrainModel_2(data=None, epochs=20, batch=128):\n",
    "    start_time = time.time()\n",
    "    model = DefineModel_2()\n",
    "    if data is None:\n",
    "        print(\"Must provide data.\")\n",
    "        return\n",
    "    trainData,testData,trainLabel,testLabel = data\n",
    "    print('Start training.')\n",
    "\n",
    "    history = model.fit(trainData, trainLabel, nb_epoch=epochs, batch_size=batch,\n",
    "              validation_data=(testData, testLabel),verbose=1,shuffle=True)\n",
    "    print(\"Training took {0} seconds.\".format(time.time() - start_time))\n",
    "    return model, history"
   ]
  },
  {
   "cell_type": "code",
   "execution_count": null,
   "metadata": {
    "collapsed": true
   },
   "outputs": [],
   "source": [
    "trained_model_2, training_history_2 = TrainModel_2(data=[trainData,testData,trainLabel,testLabel])"
   ]
  },
  {
   "cell_type": "code",
   "execution_count": null,
   "metadata": {
    "collapsed": true
   },
   "outputs": [],
   "source": []
  },
  {
   "cell_type": "code",
   "execution_count": null,
   "metadata": {
    "collapsed": true
   },
   "outputs": [],
   "source": []
  },
  {
   "cell_type": "code",
   "execution_count": null,
   "metadata": {
    "collapsed": true
   },
   "outputs": [],
   "source": [
    "def TestModel(model=None, data=None):\n",
    "    if model is None:\n",
    "        print(\"Must provide a trained model.\")\n",
    "        return\n",
    "    if data is None:\n",
    "        print(\"Must provide data.\")\n",
    "        return\n",
    "    \n",
    "    result =model.predict_on_batch(np.reshape(data,[1,16,16,16,1]))\n",
    "    return result"
   ]
  },
  {
   "cell_type": "code",
   "execution_count": 28,
   "metadata": {},
   "outputs": [
    {
     "name": "stdout",
     "output_type": "stream",
     "text": [
      "[[9.9999940e-01 2.1265177e-07 3.6914465e-11 5.5789432e-11 3.3710421e-09\n",
      "  1.6648455e-08 1.5302116e-09 2.6116270e-08 3.8751646e-09 3.5076536e-07]]\n"
     ]
    }
   ],
   "source": [
    "result = TestModel(trained_model, testData[0,:])\n",
    "print(result)"
   ]
  },
  {
   "cell_type": "code",
   "execution_count": null,
   "metadata": {
    "collapsed": true
   },
   "outputs": [],
   "source": []
  }
 ],
 "metadata": {
  "kernelspec": {
   "display_name": "Python 3",
   "language": "python",
   "name": "python3"
  },
  "language_info": {
   "codemirror_mode": {
    "name": "ipython",
    "version": 3
   },
   "file_extension": ".py",
   "mimetype": "text/x-python",
   "name": "python",
   "nbconvert_exporter": "python",
   "pygments_lexer": "ipython3",
   "version": "3.7.4"
  }
 },
 "nbformat": 4,
 "nbformat_minor": 2
}
