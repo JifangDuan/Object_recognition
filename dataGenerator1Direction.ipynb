{
 "cells": [
  {
   "cell_type": "code",
   "execution_count": 1,
   "metadata": {},
   "outputs": [
    {
     "name": "stderr",
     "output_type": "stream",
     "text": [
      "Using TensorFlow backend.\n"
     ]
    }
   ],
   "source": [
    "import scipy.io as sio\n",
    "import numpy as np\n",
    "\n",
    "from __future__ import print_function\n",
    "\n",
    "import keras.callbacks as cb\n",
    "import keras\n",
    "from keras.layers import Input, Activation, Dense, Dropout, Flatten, Concatenate, merge\n",
    "from keras.layers import Convolution3D, MaxPooling3D\n",
    "from keras.models import Sequential, Model\n",
    "from keras.optimizers import SGD,Adadelta\n",
    "from keras.regularizers import l1, l2\n",
    "from keras.utils import np_utils\n",
    "from keras import layers\n",
    "\n",
    "from keras import backend as K\n",
    "    \n",
    "from IPython.core.debugger import Tracer\n",
    "from random import shuffle\n",
    "\n",
    "%matplotlib inline\n",
    "from matplotlib import pyplot as plt\n",
    "import time\n",
    "\n",
    "import pickle,pprint"
   ]
  },
  {
   "cell_type": "code",
   "execution_count": 4,
   "metadata": {},
   "outputs": [
    {
     "name": "stdout",
     "output_type": "stream",
     "text": [
      "(106, 16, 16, 16)\n",
      "(621, 16, 16, 16)\n",
      "(1510, 16, 16, 16)\n",
      "(1710, 16, 16, 16)\n",
      "(1910, 16, 16, 16)\n",
      "(2375, 16, 16, 16)\n",
      "(2575, 16, 16, 16)\n",
      "(3255, 16, 16, 16)\n",
      "(3647, 16, 16, 16)\n",
      "(3991, 16, 16, 16)\n"
     ]
    }
   ],
   "source": [
    "cubeDim = 16\n",
    "dir = 'C:\\\\Users\\\\PangTouXian\\\\Documents\\\\MATLAB\\\\ModelNet10\\\\voxel_'+str(cubeDim)+'\\\\'\n",
    "objectName = np.array(['bathtub','bed','chair','desk','dresser','monitor','night_stand','sofa','table','toilet'])\n",
    "num = np.array([106,515,889,200,200,465,200,680,392,344]) \n",
    "\n",
    "for i in range(0,10):\n",
    "    for j in range(1,num[i]+1):\n",
    "        \n",
    "            mat = sio.loadmat(dir+objectName[i]+'\\\\train\\\\'+objectName[i]+'_'+str(j).zfill(4)+'.mat')    \n",
    "            cube = mat['cube']\n",
    "            cube = np.reshape(cube,[1,cubeDim,cubeDim,cubeDim])\n",
    "            if (i==0 and j==1):\n",
    "                cubeTrain = cube\n",
    "            else:\n",
    "                cubeTrain = np.vstack((cubeTrain,cube))\n",
    "    print(cubeTrain.shape)      \n",
    "    \n",
    "output = open('C:\\\\Users\\\\PangTouXian\\\\Documents\\\\Python_scripts\\\\cnnChair\\\\data\\\\cubeTrain16_1dir', 'wb')\n",
    "pickle.dump(cubeTrain, output)\n",
    "output.close()"
   ]
  },
  {
   "cell_type": "code",
   "execution_count": 5,
   "metadata": {},
   "outputs": [
    {
     "name": "stdout",
     "output_type": "stream",
     "text": [
      "(50, 16, 16, 16)\n",
      "(150, 16, 16, 16)\n",
      "(250, 16, 16, 16)\n",
      "(336, 16, 16, 16)\n",
      "(422, 16, 16, 16)\n",
      "(522, 16, 16, 16)\n",
      "(608, 16, 16, 16)\n",
      "(708, 16, 16, 16)\n",
      "(808, 16, 16, 16)\n",
      "(908, 16, 16, 16)\n"
     ]
    }
   ],
   "source": [
    "numStart = np.array([106,515,889,200,200,465,200,680,392,344])\n",
    "numAdd = np.array([50,100,100,86,86,100,86,100,100,100]) \n",
    "\n",
    "for i in range(0,10):\n",
    "    for j in range(numStart[i]+1,numStart[i]+numAdd[i]+1):\n",
    "\n",
    "            mat = sio.loadmat(dir+objectName[i]+'\\\\test\\\\'+objectName[i]+'_'+str(j).zfill(4)+'.mat')\n",
    "            cube = mat['cube']\n",
    "            cube = np.reshape(cube,[1,cubeDim,cubeDim,cubeDim])\n",
    "            if (i==0 and j==107):\n",
    "                cubeTest = cube\n",
    "            else:\n",
    "                cubeTest = np.vstack((cubeTest,cube))\n",
    "    print(cubeTest.shape)   \n",
    "    \n",
    "output = open('C:\\\\Users\\\\PangTouXian\\\\Documents\\\\Python_scripts\\\\cnnChair\\\\data\\\\cubeTest16_1dir', 'wb')\n",
    "pickle.dump(cubeTest, output)\n",
    "output.close()"
   ]
  }
 ],
 "metadata": {
  "kernelspec": {
   "display_name": "Python 3",
   "language": "python",
   "name": "python3"
  },
  "language_info": {
   "codemirror_mode": {
    "name": "ipython",
    "version": 3
   },
   "file_extension": ".py",
   "mimetype": "text/x-python",
   "name": "python",
   "nbconvert_exporter": "python",
   "pygments_lexer": "ipython3",
   "version": "3.7.4"
  }
 },
 "nbformat": 4,
 "nbformat_minor": 2
}
